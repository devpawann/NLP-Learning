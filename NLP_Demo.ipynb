{
  "nbformat": 4,
  "nbformat_minor": 0,
  "metadata": {
    "colab": {
      "name": "NLP Practice.ipynb",
      "provenance": [],
      "authorship_tag": "ABX9TyOJOj82MDnUFgS9bt87BBIQ"
    },
    "kernelspec": {
      "name": "python3",
      "display_name": "Python 3"
    },
    "language_info": {
      "name": "python"
    }
  },
  "cells": [
    {
      "cell_type": "code",
      "execution_count": null,
      "metadata": {
        "id": "WYZcPm3dyvWb"
      },
      "outputs": [],
      "source": [
        ""
      ]
    }
  ]
}